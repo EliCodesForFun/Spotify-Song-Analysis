{
 "cells": [
  {
   "cell_type": "markdown",
   "metadata": {
    "collapsed": true,
    "pycharm": {
     "name": "#%% md\n"
    }
   },
   "source": [
    "# Welcome to DataSpell!\n",
    "DataSpell is an Integrated Development Environment (IDE) that is,\n",
    "dedicated to specific tasks for exploratory data analysis and prototyping ML (machine learning) models."
   ]
  },
  {
   "cell_type": "code",
   "execution_count": 1,
   "outputs": [],
   "source": [
    "# Dependencies and Setup\n",
    "import matplotlib.pyplot as plt\n",
    "import pandas as pd\n",
    "import numpy as np\n",
    "import scipy.stats as st"
   ],
   "metadata": {
    "collapsed": false,
    "pycharm": {
     "name": "#%%\n"
    }
   }
  },
  {
   "cell_type": "markdown",
   "source": [
    "We're going to be importing 2 large CSV files.\n",
    "charts.csv - Contains the attributes:\n",
    "track_id, name, country (country code), date (date appeared in countries' charts), position (position this track appeared in countries' charts), streams (number of streams the track had until 'date'), artists (all involved), artist_genres, duration (milliseconds), explicit (true/false)\n",
    "\n",
    "dataset.csv - Contains the attributes:\n",
    "'#' (an index column), track_id, artists, album_name, track_name, popularity, number, duration_ms, explicit, danceability, energynumber\n",
    "\n",
    "\n",
    "Data Source:\n",
    "https://www.kaggle.com/datasets/jfreyberg/spotify-chart-data\n",
    "https://www.kaggle.com/datasets/maharshipandya/-spotify-tracks-dataset"
   ],
   "metadata": {
    "collapsed": false,
    "pycharm": {
     "name": "#%% md\n"
    }
   }
  },
  {
   "cell_type": "markdown",
   "source": [
    "### We're aiming to analyze the dataset, that can be merged on the track ID, and then answer several questions about the data.\n",
    "\n"
   ],
   "metadata": {
    "collapsed": false,
    "pycharm": {
     "name": "#%% md\n"
    }
   }
  },
  {
   "cell_type": "code",
   "execution_count": 6,
   "outputs": [],
   "source": [
    "df_charts_raw = pd.read_csv(\"charts.csv\", low_memory=False);\n",
    "df_dataset_raw = pd.read_csv(\"dataset.csv\", low_memory=False);"
   ],
   "metadata": {
    "collapsed": false,
    "pycharm": {
     "name": "#%%\n"
    }
   }
  },
  {
   "cell_type": "markdown",
   "source": [],
   "metadata": {
    "collapsed": false
   }
  },
  {
   "cell_type": "code",
   "execution_count": 28,
   "outputs": [
    {
     "data": {
      "text/plain": "                  track_id               name country        date  position  \\\n0   7GMeRGZax4uDKgz6wALWQw  It Was Always You      br  2015-03-17       138   \n1   7GMeRGZax4uDKgz6wALWQw  It Was Always You      br  2015-03-18       132   \n2   7GMeRGZax4uDKgz6wALWQw  It Was Always You      br  2015-03-19       128   \n3   7GMeRGZax4uDKgz6wALWQw  It Was Always You      br  2015-03-20       152   \n4   7GMeRGZax4uDKgz6wALWQw  It Was Always You      br  2015-03-21       160   \n5   7GMeRGZax4uDKgz6wALWQw  It Was Always You      br  2015-03-23       120   \n6   7GMeRGZax4uDKgz6wALWQw  It Was Always You      br  2015-06-01       172   \n7   7GMeRGZax4uDKgz6wALWQw  It Was Always You      br  2015-06-03       200   \n8   7GMeRGZax4uDKgz6wALWQw  It Was Always You      it  2015-03-17       136   \n9   7GMeRGZax4uDKgz6wALWQw  It Was Always You      it  2015-03-18       155   \n10  7GMeRGZax4uDKgz6wALWQw  It Was Always You      it  2015-03-19       121   \n11  7GMeRGZax4uDKgz6wALWQw  It Was Always You      it  2015-03-21       192   \n12  7GMeRGZax4uDKgz6wALWQw  It Was Always You      it  2015-04-30       173   \n13  7GMeRGZax4uDKgz6wALWQw  It Was Always You      it  2015-05-06       200   \n14  7GMeRGZax4uDKgz6wALWQw  It Was Always You      it  2015-05-07       181   \n15  7GMeRGZax4uDKgz6wALWQw  It Was Always You      it  2015-05-14       190   \n16  7GMeRGZax4uDKgz6wALWQw  It Was Always You      it  2015-05-21       194   \n17  7GMeRGZax4uDKgz6wALWQw  It Was Always You      it  2015-05-28       197   \n18  7GMeRGZax4uDKgz6wALWQw  It Was Always You      it  2015-06-11       168   \n19  7GMeRGZax4uDKgz6wALWQw  It Was Always You      it  2015-06-16       189   \n20  7GMeRGZax4uDKgz6wALWQw  It Was Always You      it  2015-06-18       174   \n21  7GMeRGZax4uDKgz6wALWQw  It Was Always You      it  2015-06-25       193   \n22  7GMeRGZax4uDKgz6wALWQw  It Was Always You      it  2015-07-02       195   \n23  7GMeRGZax4uDKgz6wALWQw  It Was Always You      it  2015-07-23       195   \n24  7GMeRGZax4uDKgz6wALWQw  It Was Always You      ph  2015-03-19       147   \n25  7GMeRGZax4uDKgz6wALWQw  It Was Always You      tw  2015-09-15       169   \n26  7GMeRGZax4uDKgz6wALWQw  It Was Always You      tw  2015-09-16       167   \n27  7GMeRGZax4uDKgz6wALWQw  It Was Always You      pt  2015-06-13       139   \n28  7GMeRGZax4uDKgz6wALWQw  It Was Always You      pt  2015-06-16       192   \n29  7GMeRGZax4uDKgz6wALWQw  It Was Always You      pt  2015-06-17       164   \n30  7GMeRGZax4uDKgz6wALWQw  It Was Always You      pt  2015-06-18       164   \n31  7GMeRGZax4uDKgz6wALWQw  It Was Always You      hk  2015-09-04       125   \n32  7GMeRGZax4uDKgz6wALWQw  It Was Always You      hk  2015-09-05       152   \n33  7GMeRGZax4uDKgz6wALWQw  It Was Always You      pe  2015-04-28        95   \n34  7GMeRGZax4uDKgz6wALWQw  It Was Always You      co  2015-05-13       190   \n35  7GMeRGZax4uDKgz6wALWQw  It Was Always You      cr  2016-04-15       180   \n36  7GMeRGZax4uDKgz6wALWQw  It Was Always You      cr  2016-07-17       198   \n37  7GMeRGZax4uDKgz6wALWQw  It Was Always You      uy  2020-03-10       176   \n38  2Bv0MbaqYx2IrQa7Z6xBT0             T'd Up  global  2018-02-06       174   \n39  2Bv0MbaqYx2IrQa7Z6xBT0             T'd Up  global  2018-02-07       185   \n40  2Bv0MbaqYx2IrQa7Z6xBT0             T'd Up  global  2018-02-09       154   \n41  2Bv0MbaqYx2IrQa7Z6xBT0             T'd Up      us  2018-02-06        63   \n42  2Bv0MbaqYx2IrQa7Z6xBT0             T'd Up      us  2018-02-07        65   \n43  2Bv0MbaqYx2IrQa7Z6xBT0             T'd Up      us  2018-02-08        82   \n44  2Bv0MbaqYx2IrQa7Z6xBT0             T'd Up      us  2018-02-09        76   \n45  2Bv0MbaqYx2IrQa7Z6xBT0             T'd Up      us  2018-02-10       120   \n46  2Bv0MbaqYx2IrQa7Z6xBT0             T'd Up      us  2018-02-11       163   \n47  2Bv0MbaqYx2IrQa7Z6xBT0             T'd Up      us  2018-02-12       159   \n48  2Bv0MbaqYx2IrQa7Z6xBT0             T'd Up      us  2018-02-13       175   \n49  2Bv0MbaqYx2IrQa7Z6xBT0             T'd Up      ca  2018-02-06       181   \n\n   streams           artists  \\\n0     6584      ['Maroon 5']   \n1     6963      ['Maroon 5']   \n2     7049      ['Maroon 5']   \n3     6976      ['Maroon 5']   \n4     6156      ['Maroon 5']   \n5     6969      ['Maroon 5']   \n6     7461      ['Maroon 5']   \n7     7197      ['Maroon 5']   \n8     4672      ['Maroon 5']   \n9     4002      ['Maroon 5']   \n10    4961      ['Maroon 5']   \n11    3692      ['Maroon 5']   \n12    4121      ['Maroon 5']   \n13    3618      ['Maroon 5']   \n14    4195      ['Maroon 5']   \n15    4078      ['Maroon 5']   \n16    4036      ['Maroon 5']   \n17    4407      ['Maroon 5']   \n18    5549      ['Maroon 5']   \n19    4796      ['Maroon 5']   \n20    5252      ['Maroon 5']   \n21    4821      ['Maroon 5']   \n22    4778      ['Maroon 5']   \n23    4435      ['Maroon 5']   \n24    4028      ['Maroon 5']   \n25    1808      ['Maroon 5']   \n26    1884      ['Maroon 5']   \n27    1245      ['Maroon 5']   \n28    1222      ['Maroon 5']   \n29    1340      ['Maroon 5']   \n30    1307      ['Maroon 5']   \n31    1240      ['Maroon 5']   \n32    1074      ['Maroon 5']   \n33    1380      ['Maroon 5']   \n34    1651      ['Maroon 5']   \n35    1686      ['Maroon 5']   \n36    1293      ['Maroon 5']   \n37    2060      ['Maroon 5']   \n38  576290  ['Rae Sremmurd']   \n39  560344  ['Rae Sremmurd']   \n40  708514  ['Rae Sremmurd']   \n41  393167  ['Rae Sremmurd']   \n42  381697  ['Rae Sremmurd']   \n43  327166  ['Rae Sremmurd']   \n44  399167  ['Rae Sremmurd']   \n45  249819  ['Rae Sremmurd']   \n46  191382  ['Rae Sremmurd']   \n47  214344  ['Rae Sremmurd']   \n48  207465  ['Rae Sremmurd']   \n49   23615  ['Rae Sremmurd']   \n\n                                        artist_genres  duration  explicit  \n0                                             ['pop']    239920     False  \n1                                             ['pop']    239920     False  \n2                                             ['pop']    239920     False  \n3                                             ['pop']    239920     False  \n4                                             ['pop']    239920     False  \n5                                             ['pop']    239920     False  \n6                                             ['pop']    239920     False  \n7                                             ['pop']    239920     False  \n8                                             ['pop']    239920     False  \n9                                             ['pop']    239920     False  \n10                                            ['pop']    239920     False  \n11                                            ['pop']    239920     False  \n12                                            ['pop']    239920     False  \n13                                            ['pop']    239920     False  \n14                                            ['pop']    239920     False  \n15                                            ['pop']    239920     False  \n16                                            ['pop']    239920     False  \n17                                            ['pop']    239920     False  \n18                                            ['pop']    239920     False  \n19                                            ['pop']    239920     False  \n20                                            ['pop']    239920     False  \n21                                            ['pop']    239920     False  \n22                                            ['pop']    239920     False  \n23                                            ['pop']    239920     False  \n24                                            ['pop']    239920     False  \n25                                            ['pop']    239920     False  \n26                                            ['pop']    239920     False  \n27                                            ['pop']    239920     False  \n28                                            ['pop']    239920     False  \n29                                            ['pop']    239920     False  \n30                                            ['pop']    239920     False  \n31                                            ['pop']    239920     False  \n32                                            ['pop']    239920     False  \n33                                            ['pop']    239920     False  \n34                                            ['pop']    239920     False  \n35                                            ['pop']    239920     False  \n36                                            ['pop']    239920     False  \n37                                            ['pop']    239920     False  \n38  ['hip hop', 'rap', 'trap', 'mississippi hip ho...    232862      True  \n39  ['hip hop', 'rap', 'trap', 'mississippi hip ho...    232862      True  \n40  ['hip hop', 'rap', 'trap', 'mississippi hip ho...    232862      True  \n41  ['hip hop', 'rap', 'trap', 'mississippi hip ho...    232862      True  \n42  ['hip hop', 'rap', 'trap', 'mississippi hip ho...    232862      True  \n43  ['hip hop', 'rap', 'trap', 'mississippi hip ho...    232862      True  \n44  ['hip hop', 'rap', 'trap', 'mississippi hip ho...    232862      True  \n45  ['hip hop', 'rap', 'trap', 'mississippi hip ho...    232862      True  \n46  ['hip hop', 'rap', 'trap', 'mississippi hip ho...    232862      True  \n47  ['hip hop', 'rap', 'trap', 'mississippi hip ho...    232862      True  \n48  ['hip hop', 'rap', 'trap', 'mississippi hip ho...    232862      True  \n49  ['hip hop', 'rap', 'trap', 'mississippi hip ho...    232862      True  ",
      "text/html": "<div>\n<style scoped>\n    .dataframe tbody tr th:only-of-type {\n        vertical-align: middle;\n    }\n\n    .dataframe tbody tr th {\n        vertical-align: top;\n    }\n\n    .dataframe thead th {\n        text-align: right;\n    }\n</style>\n<table border=\"1\" class=\"dataframe\">\n  <thead>\n    <tr style=\"text-align: right;\">\n      <th></th>\n      <th>track_id</th>\n      <th>name</th>\n      <th>country</th>\n      <th>date</th>\n      <th>position</th>\n      <th>streams</th>\n      <th>artists</th>\n      <th>artist_genres</th>\n      <th>duration</th>\n      <th>explicit</th>\n    </tr>\n  </thead>\n  <tbody>\n    <tr>\n      <th>0</th>\n      <td>7GMeRGZax4uDKgz6wALWQw</td>\n      <td>It Was Always You</td>\n      <td>br</td>\n      <td>2015-03-17</td>\n      <td>138</td>\n      <td>6584</td>\n      <td>['Maroon 5']</td>\n      <td>['pop']</td>\n      <td>239920</td>\n      <td>False</td>\n    </tr>\n    <tr>\n      <th>1</th>\n      <td>7GMeRGZax4uDKgz6wALWQw</td>\n      <td>It Was Always You</td>\n      <td>br</td>\n      <td>2015-03-18</td>\n      <td>132</td>\n      <td>6963</td>\n      <td>['Maroon 5']</td>\n      <td>['pop']</td>\n      <td>239920</td>\n      <td>False</td>\n    </tr>\n    <tr>\n      <th>2</th>\n      <td>7GMeRGZax4uDKgz6wALWQw</td>\n      <td>It Was Always You</td>\n      <td>br</td>\n      <td>2015-03-19</td>\n      <td>128</td>\n      <td>7049</td>\n      <td>['Maroon 5']</td>\n      <td>['pop']</td>\n      <td>239920</td>\n      <td>False</td>\n    </tr>\n    <tr>\n      <th>3</th>\n      <td>7GMeRGZax4uDKgz6wALWQw</td>\n      <td>It Was Always You</td>\n      <td>br</td>\n      <td>2015-03-20</td>\n      <td>152</td>\n      <td>6976</td>\n      <td>['Maroon 5']</td>\n      <td>['pop']</td>\n      <td>239920</td>\n      <td>False</td>\n    </tr>\n    <tr>\n      <th>4</th>\n      <td>7GMeRGZax4uDKgz6wALWQw</td>\n      <td>It Was Always You</td>\n      <td>br</td>\n      <td>2015-03-21</td>\n      <td>160</td>\n      <td>6156</td>\n      <td>['Maroon 5']</td>\n      <td>['pop']</td>\n      <td>239920</td>\n      <td>False</td>\n    </tr>\n    <tr>\n      <th>5</th>\n      <td>7GMeRGZax4uDKgz6wALWQw</td>\n      <td>It Was Always You</td>\n      <td>br</td>\n      <td>2015-03-23</td>\n      <td>120</td>\n      <td>6969</td>\n      <td>['Maroon 5']</td>\n      <td>['pop']</td>\n      <td>239920</td>\n      <td>False</td>\n    </tr>\n    <tr>\n      <th>6</th>\n      <td>7GMeRGZax4uDKgz6wALWQw</td>\n      <td>It Was Always You</td>\n      <td>br</td>\n      <td>2015-06-01</td>\n      <td>172</td>\n      <td>7461</td>\n      <td>['Maroon 5']</td>\n      <td>['pop']</td>\n      <td>239920</td>\n      <td>False</td>\n    </tr>\n    <tr>\n      <th>7</th>\n      <td>7GMeRGZax4uDKgz6wALWQw</td>\n      <td>It Was Always You</td>\n      <td>br</td>\n      <td>2015-06-03</td>\n      <td>200</td>\n      <td>7197</td>\n      <td>['Maroon 5']</td>\n      <td>['pop']</td>\n      <td>239920</td>\n      <td>False</td>\n    </tr>\n    <tr>\n      <th>8</th>\n      <td>7GMeRGZax4uDKgz6wALWQw</td>\n      <td>It Was Always You</td>\n      <td>it</td>\n      <td>2015-03-17</td>\n      <td>136</td>\n      <td>4672</td>\n      <td>['Maroon 5']</td>\n      <td>['pop']</td>\n      <td>239920</td>\n      <td>False</td>\n    </tr>\n    <tr>\n      <th>9</th>\n      <td>7GMeRGZax4uDKgz6wALWQw</td>\n      <td>It Was Always You</td>\n      <td>it</td>\n      <td>2015-03-18</td>\n      <td>155</td>\n      <td>4002</td>\n      <td>['Maroon 5']</td>\n      <td>['pop']</td>\n      <td>239920</td>\n      <td>False</td>\n    </tr>\n    <tr>\n      <th>10</th>\n      <td>7GMeRGZax4uDKgz6wALWQw</td>\n      <td>It Was Always You</td>\n      <td>it</td>\n      <td>2015-03-19</td>\n      <td>121</td>\n      <td>4961</td>\n      <td>['Maroon 5']</td>\n      <td>['pop']</td>\n      <td>239920</td>\n      <td>False</td>\n    </tr>\n    <tr>\n      <th>11</th>\n      <td>7GMeRGZax4uDKgz6wALWQw</td>\n      <td>It Was Always You</td>\n      <td>it</td>\n      <td>2015-03-21</td>\n      <td>192</td>\n      <td>3692</td>\n      <td>['Maroon 5']</td>\n      <td>['pop']</td>\n      <td>239920</td>\n      <td>False</td>\n    </tr>\n    <tr>\n      <th>12</th>\n      <td>7GMeRGZax4uDKgz6wALWQw</td>\n      <td>It Was Always You</td>\n      <td>it</td>\n      <td>2015-04-30</td>\n      <td>173</td>\n      <td>4121</td>\n      <td>['Maroon 5']</td>\n      <td>['pop']</td>\n      <td>239920</td>\n      <td>False</td>\n    </tr>\n    <tr>\n      <th>13</th>\n      <td>7GMeRGZax4uDKgz6wALWQw</td>\n      <td>It Was Always You</td>\n      <td>it</td>\n      <td>2015-05-06</td>\n      <td>200</td>\n      <td>3618</td>\n      <td>['Maroon 5']</td>\n      <td>['pop']</td>\n      <td>239920</td>\n      <td>False</td>\n    </tr>\n    <tr>\n      <th>14</th>\n      <td>7GMeRGZax4uDKgz6wALWQw</td>\n      <td>It Was Always You</td>\n      <td>it</td>\n      <td>2015-05-07</td>\n      <td>181</td>\n      <td>4195</td>\n      <td>['Maroon 5']</td>\n      <td>['pop']</td>\n      <td>239920</td>\n      <td>False</td>\n    </tr>\n    <tr>\n      <th>15</th>\n      <td>7GMeRGZax4uDKgz6wALWQw</td>\n      <td>It Was Always You</td>\n      <td>it</td>\n      <td>2015-05-14</td>\n      <td>190</td>\n      <td>4078</td>\n      <td>['Maroon 5']</td>\n      <td>['pop']</td>\n      <td>239920</td>\n      <td>False</td>\n    </tr>\n    <tr>\n      <th>16</th>\n      <td>7GMeRGZax4uDKgz6wALWQw</td>\n      <td>It Was Always You</td>\n      <td>it</td>\n      <td>2015-05-21</td>\n      <td>194</td>\n      <td>4036</td>\n      <td>['Maroon 5']</td>\n      <td>['pop']</td>\n      <td>239920</td>\n      <td>False</td>\n    </tr>\n    <tr>\n      <th>17</th>\n      <td>7GMeRGZax4uDKgz6wALWQw</td>\n      <td>It Was Always You</td>\n      <td>it</td>\n      <td>2015-05-28</td>\n      <td>197</td>\n      <td>4407</td>\n      <td>['Maroon 5']</td>\n      <td>['pop']</td>\n      <td>239920</td>\n      <td>False</td>\n    </tr>\n    <tr>\n      <th>18</th>\n      <td>7GMeRGZax4uDKgz6wALWQw</td>\n      <td>It Was Always You</td>\n      <td>it</td>\n      <td>2015-06-11</td>\n      <td>168</td>\n      <td>5549</td>\n      <td>['Maroon 5']</td>\n      <td>['pop']</td>\n      <td>239920</td>\n      <td>False</td>\n    </tr>\n    <tr>\n      <th>19</th>\n      <td>7GMeRGZax4uDKgz6wALWQw</td>\n      <td>It Was Always You</td>\n      <td>it</td>\n      <td>2015-06-16</td>\n      <td>189</td>\n      <td>4796</td>\n      <td>['Maroon 5']</td>\n      <td>['pop']</td>\n      <td>239920</td>\n      <td>False</td>\n    </tr>\n    <tr>\n      <th>20</th>\n      <td>7GMeRGZax4uDKgz6wALWQw</td>\n      <td>It Was Always You</td>\n      <td>it</td>\n      <td>2015-06-18</td>\n      <td>174</td>\n      <td>5252</td>\n      <td>['Maroon 5']</td>\n      <td>['pop']</td>\n      <td>239920</td>\n      <td>False</td>\n    </tr>\n    <tr>\n      <th>21</th>\n      <td>7GMeRGZax4uDKgz6wALWQw</td>\n      <td>It Was Always You</td>\n      <td>it</td>\n      <td>2015-06-25</td>\n      <td>193</td>\n      <td>4821</td>\n      <td>['Maroon 5']</td>\n      <td>['pop']</td>\n      <td>239920</td>\n      <td>False</td>\n    </tr>\n    <tr>\n      <th>22</th>\n      <td>7GMeRGZax4uDKgz6wALWQw</td>\n      <td>It Was Always You</td>\n      <td>it</td>\n      <td>2015-07-02</td>\n      <td>195</td>\n      <td>4778</td>\n      <td>['Maroon 5']</td>\n      <td>['pop']</td>\n      <td>239920</td>\n      <td>False</td>\n    </tr>\n    <tr>\n      <th>23</th>\n      <td>7GMeRGZax4uDKgz6wALWQw</td>\n      <td>It Was Always You</td>\n      <td>it</td>\n      <td>2015-07-23</td>\n      <td>195</td>\n      <td>4435</td>\n      <td>['Maroon 5']</td>\n      <td>['pop']</td>\n      <td>239920</td>\n      <td>False</td>\n    </tr>\n    <tr>\n      <th>24</th>\n      <td>7GMeRGZax4uDKgz6wALWQw</td>\n      <td>It Was Always You</td>\n      <td>ph</td>\n      <td>2015-03-19</td>\n      <td>147</td>\n      <td>4028</td>\n      <td>['Maroon 5']</td>\n      <td>['pop']</td>\n      <td>239920</td>\n      <td>False</td>\n    </tr>\n    <tr>\n      <th>25</th>\n      <td>7GMeRGZax4uDKgz6wALWQw</td>\n      <td>It Was Always You</td>\n      <td>tw</td>\n      <td>2015-09-15</td>\n      <td>169</td>\n      <td>1808</td>\n      <td>['Maroon 5']</td>\n      <td>['pop']</td>\n      <td>239920</td>\n      <td>False</td>\n    </tr>\n    <tr>\n      <th>26</th>\n      <td>7GMeRGZax4uDKgz6wALWQw</td>\n      <td>It Was Always You</td>\n      <td>tw</td>\n      <td>2015-09-16</td>\n      <td>167</td>\n      <td>1884</td>\n      <td>['Maroon 5']</td>\n      <td>['pop']</td>\n      <td>239920</td>\n      <td>False</td>\n    </tr>\n    <tr>\n      <th>27</th>\n      <td>7GMeRGZax4uDKgz6wALWQw</td>\n      <td>It Was Always You</td>\n      <td>pt</td>\n      <td>2015-06-13</td>\n      <td>139</td>\n      <td>1245</td>\n      <td>['Maroon 5']</td>\n      <td>['pop']</td>\n      <td>239920</td>\n      <td>False</td>\n    </tr>\n    <tr>\n      <th>28</th>\n      <td>7GMeRGZax4uDKgz6wALWQw</td>\n      <td>It Was Always You</td>\n      <td>pt</td>\n      <td>2015-06-16</td>\n      <td>192</td>\n      <td>1222</td>\n      <td>['Maroon 5']</td>\n      <td>['pop']</td>\n      <td>239920</td>\n      <td>False</td>\n    </tr>\n    <tr>\n      <th>29</th>\n      <td>7GMeRGZax4uDKgz6wALWQw</td>\n      <td>It Was Always You</td>\n      <td>pt</td>\n      <td>2015-06-17</td>\n      <td>164</td>\n      <td>1340</td>\n      <td>['Maroon 5']</td>\n      <td>['pop']</td>\n      <td>239920</td>\n      <td>False</td>\n    </tr>\n    <tr>\n      <th>30</th>\n      <td>7GMeRGZax4uDKgz6wALWQw</td>\n      <td>It Was Always You</td>\n      <td>pt</td>\n      <td>2015-06-18</td>\n      <td>164</td>\n      <td>1307</td>\n      <td>['Maroon 5']</td>\n      <td>['pop']</td>\n      <td>239920</td>\n      <td>False</td>\n    </tr>\n    <tr>\n      <th>31</th>\n      <td>7GMeRGZax4uDKgz6wALWQw</td>\n      <td>It Was Always You</td>\n      <td>hk</td>\n      <td>2015-09-04</td>\n      <td>125</td>\n      <td>1240</td>\n      <td>['Maroon 5']</td>\n      <td>['pop']</td>\n      <td>239920</td>\n      <td>False</td>\n    </tr>\n    <tr>\n      <th>32</th>\n      <td>7GMeRGZax4uDKgz6wALWQw</td>\n      <td>It Was Always You</td>\n      <td>hk</td>\n      <td>2015-09-05</td>\n      <td>152</td>\n      <td>1074</td>\n      <td>['Maroon 5']</td>\n      <td>['pop']</td>\n      <td>239920</td>\n      <td>False</td>\n    </tr>\n    <tr>\n      <th>33</th>\n      <td>7GMeRGZax4uDKgz6wALWQw</td>\n      <td>It Was Always You</td>\n      <td>pe</td>\n      <td>2015-04-28</td>\n      <td>95</td>\n      <td>1380</td>\n      <td>['Maroon 5']</td>\n      <td>['pop']</td>\n      <td>239920</td>\n      <td>False</td>\n    </tr>\n    <tr>\n      <th>34</th>\n      <td>7GMeRGZax4uDKgz6wALWQw</td>\n      <td>It Was Always You</td>\n      <td>co</td>\n      <td>2015-05-13</td>\n      <td>190</td>\n      <td>1651</td>\n      <td>['Maroon 5']</td>\n      <td>['pop']</td>\n      <td>239920</td>\n      <td>False</td>\n    </tr>\n    <tr>\n      <th>35</th>\n      <td>7GMeRGZax4uDKgz6wALWQw</td>\n      <td>It Was Always You</td>\n      <td>cr</td>\n      <td>2016-04-15</td>\n      <td>180</td>\n      <td>1686</td>\n      <td>['Maroon 5']</td>\n      <td>['pop']</td>\n      <td>239920</td>\n      <td>False</td>\n    </tr>\n    <tr>\n      <th>36</th>\n      <td>7GMeRGZax4uDKgz6wALWQw</td>\n      <td>It Was Always You</td>\n      <td>cr</td>\n      <td>2016-07-17</td>\n      <td>198</td>\n      <td>1293</td>\n      <td>['Maroon 5']</td>\n      <td>['pop']</td>\n      <td>239920</td>\n      <td>False</td>\n    </tr>\n    <tr>\n      <th>37</th>\n      <td>7GMeRGZax4uDKgz6wALWQw</td>\n      <td>It Was Always You</td>\n      <td>uy</td>\n      <td>2020-03-10</td>\n      <td>176</td>\n      <td>2060</td>\n      <td>['Maroon 5']</td>\n      <td>['pop']</td>\n      <td>239920</td>\n      <td>False</td>\n    </tr>\n    <tr>\n      <th>38</th>\n      <td>2Bv0MbaqYx2IrQa7Z6xBT0</td>\n      <td>T'd Up</td>\n      <td>global</td>\n      <td>2018-02-06</td>\n      <td>174</td>\n      <td>576290</td>\n      <td>['Rae Sremmurd']</td>\n      <td>['hip hop', 'rap', 'trap', 'mississippi hip ho...</td>\n      <td>232862</td>\n      <td>True</td>\n    </tr>\n    <tr>\n      <th>39</th>\n      <td>2Bv0MbaqYx2IrQa7Z6xBT0</td>\n      <td>T'd Up</td>\n      <td>global</td>\n      <td>2018-02-07</td>\n      <td>185</td>\n      <td>560344</td>\n      <td>['Rae Sremmurd']</td>\n      <td>['hip hop', 'rap', 'trap', 'mississippi hip ho...</td>\n      <td>232862</td>\n      <td>True</td>\n    </tr>\n    <tr>\n      <th>40</th>\n      <td>2Bv0MbaqYx2IrQa7Z6xBT0</td>\n      <td>T'd Up</td>\n      <td>global</td>\n      <td>2018-02-09</td>\n      <td>154</td>\n      <td>708514</td>\n      <td>['Rae Sremmurd']</td>\n      <td>['hip hop', 'rap', 'trap', 'mississippi hip ho...</td>\n      <td>232862</td>\n      <td>True</td>\n    </tr>\n    <tr>\n      <th>41</th>\n      <td>2Bv0MbaqYx2IrQa7Z6xBT0</td>\n      <td>T'd Up</td>\n      <td>us</td>\n      <td>2018-02-06</td>\n      <td>63</td>\n      <td>393167</td>\n      <td>['Rae Sremmurd']</td>\n      <td>['hip hop', 'rap', 'trap', 'mississippi hip ho...</td>\n      <td>232862</td>\n      <td>True</td>\n    </tr>\n    <tr>\n      <th>42</th>\n      <td>2Bv0MbaqYx2IrQa7Z6xBT0</td>\n      <td>T'd Up</td>\n      <td>us</td>\n      <td>2018-02-07</td>\n      <td>65</td>\n      <td>381697</td>\n      <td>['Rae Sremmurd']</td>\n      <td>['hip hop', 'rap', 'trap', 'mississippi hip ho...</td>\n      <td>232862</td>\n      <td>True</td>\n    </tr>\n    <tr>\n      <th>43</th>\n      <td>2Bv0MbaqYx2IrQa7Z6xBT0</td>\n      <td>T'd Up</td>\n      <td>us</td>\n      <td>2018-02-08</td>\n      <td>82</td>\n      <td>327166</td>\n      <td>['Rae Sremmurd']</td>\n      <td>['hip hop', 'rap', 'trap', 'mississippi hip ho...</td>\n      <td>232862</td>\n      <td>True</td>\n    </tr>\n    <tr>\n      <th>44</th>\n      <td>2Bv0MbaqYx2IrQa7Z6xBT0</td>\n      <td>T'd Up</td>\n      <td>us</td>\n      <td>2018-02-09</td>\n      <td>76</td>\n      <td>399167</td>\n      <td>['Rae Sremmurd']</td>\n      <td>['hip hop', 'rap', 'trap', 'mississippi hip ho...</td>\n      <td>232862</td>\n      <td>True</td>\n    </tr>\n    <tr>\n      <th>45</th>\n      <td>2Bv0MbaqYx2IrQa7Z6xBT0</td>\n      <td>T'd Up</td>\n      <td>us</td>\n      <td>2018-02-10</td>\n      <td>120</td>\n      <td>249819</td>\n      <td>['Rae Sremmurd']</td>\n      <td>['hip hop', 'rap', 'trap', 'mississippi hip ho...</td>\n      <td>232862</td>\n      <td>True</td>\n    </tr>\n    <tr>\n      <th>46</th>\n      <td>2Bv0MbaqYx2IrQa7Z6xBT0</td>\n      <td>T'd Up</td>\n      <td>us</td>\n      <td>2018-02-11</td>\n      <td>163</td>\n      <td>191382</td>\n      <td>['Rae Sremmurd']</td>\n      <td>['hip hop', 'rap', 'trap', 'mississippi hip ho...</td>\n      <td>232862</td>\n      <td>True</td>\n    </tr>\n    <tr>\n      <th>47</th>\n      <td>2Bv0MbaqYx2IrQa7Z6xBT0</td>\n      <td>T'd Up</td>\n      <td>us</td>\n      <td>2018-02-12</td>\n      <td>159</td>\n      <td>214344</td>\n      <td>['Rae Sremmurd']</td>\n      <td>['hip hop', 'rap', 'trap', 'mississippi hip ho...</td>\n      <td>232862</td>\n      <td>True</td>\n    </tr>\n    <tr>\n      <th>48</th>\n      <td>2Bv0MbaqYx2IrQa7Z6xBT0</td>\n      <td>T'd Up</td>\n      <td>us</td>\n      <td>2018-02-13</td>\n      <td>175</td>\n      <td>207465</td>\n      <td>['Rae Sremmurd']</td>\n      <td>['hip hop', 'rap', 'trap', 'mississippi hip ho...</td>\n      <td>232862</td>\n      <td>True</td>\n    </tr>\n    <tr>\n      <th>49</th>\n      <td>2Bv0MbaqYx2IrQa7Z6xBT0</td>\n      <td>T'd Up</td>\n      <td>ca</td>\n      <td>2018-02-06</td>\n      <td>181</td>\n      <td>23615</td>\n      <td>['Rae Sremmurd']</td>\n      <td>['hip hop', 'rap', 'trap', 'mississippi hip ho...</td>\n      <td>232862</td>\n      <td>True</td>\n    </tr>\n  </tbody>\n</table>\n</div>"
     },
     "execution_count": 28,
     "metadata": {},
     "output_type": "execute_result"
    }
   ],
   "source": [
    "df_charts_raw.head(50)"
   ],
   "metadata": {
    "collapsed": false,
    "pycharm": {
     "name": "#%%\n"
    }
   }
  },
  {
   "cell_type": "markdown",
   "source": [
    "From the above view, it looks like we get a lot of row entries for each song, with different numbers of streams, and positions.\n",
    "From the documentation, we can see that 'streams' is streams until x date, so we might have to use the MAX value per track_id\n"
   ],
   "metadata": {
    "collapsed": false
   }
  },
  {
   "cell_type": "code",
   "execution_count": 7,
   "outputs": [
    {
     "name": "stdout",
     "output_type": "stream",
     "text": [
      "<class 'pandas.core.frame.DataFrame'>\n",
      "RangeIndex: 626475 entries, 0 to 626474\n",
      "Data columns (total 10 columns):\n",
      " #   Column         Non-Null Count   Dtype \n",
      "---  ------         --------------   ----- \n",
      " 0   track_id       626475 non-null  object\n",
      " 1   name           626337 non-null  object\n",
      " 2   country        626475 non-null  object\n",
      " 3   date           626475 non-null  object\n",
      " 4   position       626475 non-null  int64 \n",
      " 5   streams        626475 non-null  object\n",
      " 6   artists        626475 non-null  object\n",
      " 7   artist_genres  626475 non-null  object\n",
      " 8   duration       626475 non-null  int64 \n",
      " 9   explicit       626475 non-null  bool  \n",
      "dtypes: bool(1), int64(2), object(7)\n",
      "memory usage: 43.6+ MB\n"
     ]
    }
   ],
   "source": [
    "df_charts_raw.info()"
   ],
   "metadata": {
    "collapsed": false,
    "pycharm": {
     "name": "#%%\n"
    }
   }
  },
  {
   "cell_type": "markdown",
   "source": [
    "### Question 1 - How many entries do we have excluding duplicate song names?"
   ],
   "metadata": {
    "collapsed": false,
    "pycharm": {
     "name": "#%% md\n"
    }
   }
  },
  {
   "cell_type": "code",
   "execution_count": 11,
   "outputs": [
    {
     "data": {
      "text/plain": "track_id           7188\nname               6854\ncountry              71\ndate               2887\nposition            200\nstreams          175019\nartists            3383\nartist_genres      3625\nduration           6515\nexplicit              2\ndtype: int64"
     },
     "execution_count": 11,
     "metadata": {},
     "output_type": "execute_result"
    }
   ],
   "source": [
    "df_charts_raw.nunique(axis=0, dropna=True)"
   ],
   "metadata": {
    "collapsed": false,
    "pycharm": {
     "name": "#%%\n"
    }
   }
  },
  {
   "cell_type": "markdown",
   "source": [
    "Upon inspection, it looks like this dataset contains 7188 unique songs, and from those songs, we have 6854 unique names.\n",
    "It looks problematic that we have 2887 unique dates. This means we might have to restrict our dataset to a shorter time period if we want to do any time series analysis...\n"
   ],
   "metadata": {
    "collapsed": false,
    "pycharm": {
     "name": "#%% md\n"
    }
   }
  },
  {
   "cell_type": "code",
   "execution_count": 24,
   "outputs": [
    {
     "name": "stdout",
     "output_type": "stream",
     "text": [
      "Percent of songs with unique titles: 95.353%\n"
     ]
    }
   ],
   "source": [
    "print(\"Percent of songs with unique titles: \" + str(round(6854/7188 * 100, 3)) + \"%\" )"
   ],
   "metadata": {
    "collapsed": false,
    "pycharm": {
     "name": "#%%\n"
    }
   }
  }
 ],
 "metadata": {
  "kernelspec": {
   "display_name": "Python 3",
   "language": "python",
   "name": "python3"
  },
  "language_info": {
   "codemirror_mode": {
    "name": "ipython",
    "version": 2
   },
   "file_extension": ".py",
   "mimetype": "text/x-python",
   "name": "python",
   "nbconvert_exporter": "python",
   "pygments_lexer": "ipython2",
   "version": "2.7.6"
  }
 },
 "nbformat": 4,
 "nbformat_minor": 0
}